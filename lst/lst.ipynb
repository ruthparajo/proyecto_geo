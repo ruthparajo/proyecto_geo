{
 "cells": [
  {
   "cell_type": "code",
   "execution_count": 1,
   "id": "8442d55a",
   "metadata": {},
   "outputs": [],
   "source": [
    "import pandas as pd\n",
    "import geopandas as gpd\n",
    "import numpy as np\n",
    "import matplotlib.pyplot as plt\n",
    "import geemap,ee"
   ]
  },
  {
   "cell_type": "code",
   "execution_count": 2,
   "id": "e1c99001",
   "metadata": {},
   "outputs": [
    {
     "data": {
      "text/html": [
       "\n",
       "            <style>\n",
       "                .geemap-dark {\n",
       "                    --jp-widgets-color: white;\n",
       "                    --jp-widgets-label-color: white;\n",
       "                    --jp-ui-font-color1: white;\n",
       "                    --jp-layout-color2: #454545;\n",
       "                    background-color: #383838;\n",
       "                }\n",
       "\n",
       "                .geemap-dark .jupyter-button {\n",
       "                    --jp-layout-color3: #383838;\n",
       "                }\n",
       "\n",
       "                .geemap-colab {\n",
       "                    background-color: var(--colab-primary-surface-color, white);\n",
       "                }\n",
       "\n",
       "                .geemap-colab .jupyter-button {\n",
       "                    --jp-layout-color3: var(--colab-primary-surface-color, white);\n",
       "                }\n",
       "            </style>\n",
       "            "
      ],
      "text/plain": [
       "<IPython.core.display.HTML object>"
      ]
     },
     "metadata": {},
     "output_type": "display_data"
    }
   ],
   "source": [
    "ee.Authenticate()\n",
    "ee.Initialize(project='ee-benja3525')"
   ]
  },
  {
   "cell_type": "code",
   "execution_count": 3,
   "id": "f6caa147",
   "metadata": {},
   "outputs": [
    {
     "data": {
      "text/html": [
       "\n",
       "            <style>\n",
       "                .geemap-dark {\n",
       "                    --jp-widgets-color: white;\n",
       "                    --jp-widgets-label-color: white;\n",
       "                    --jp-ui-font-color1: white;\n",
       "                    --jp-layout-color2: #454545;\n",
       "                    background-color: #383838;\n",
       "                }\n",
       "\n",
       "                .geemap-dark .jupyter-button {\n",
       "                    --jp-layout-color3: #383838;\n",
       "                }\n",
       "\n",
       "                .geemap-colab {\n",
       "                    background-color: var(--colab-primary-surface-color, white);\n",
       "                }\n",
       "\n",
       "                .geemap-colab .jupyter-button {\n",
       "                    --jp-layout-color3: var(--colab-primary-surface-color, white);\n",
       "                }\n",
       "            </style>\n",
       "            "
      ],
      "text/plain": [
       "<IPython.core.display.HTML object>"
      ]
     },
     "metadata": {},
     "output_type": "display_data"
    },
    {
     "name": "stderr",
     "output_type": "stream",
     "text": [
      "C:\\Users\\benji\\AppData\\Local\\Temp\\ipykernel_8224\\3308869618.py:3: DeprecationWarning: The 'unary_union' attribute is deprecated, use the 'union_all()' method instead.\n",
      "  ys = ys.unary_union\n"
     ]
    },
    {
     "data": {
      "image/png": "[encoded data removed]",
      "text/plain": [
       "<Figure size 600x600 with 1 Axes>"
      ]
     },
     "metadata": {},
     "output_type": "display_data"
    }
   ],
   "source": [
    "ys = gpd.read_file('YELL_tracts/YELL_tracts.shp')\n",
    "ys = ys.to_crs('EPSG:4326')\n",
    "ys = ys.unary_union\n",
    "ys = gpd.GeoDataFrame(geometry=[ys], crs='EPSG:4326')\n",
    "aoi = geemap.gdf_to_ee(ys)\n",
    "\n",
    "centro = [44.952205, -110.496154]\n",
    "\n",
    "fig, ax = plt.subplots(figsize=(6, 6))\n",
    "ys.plot(ax=ax, edgecolor='black', facecolor='lightgray')\n",
    "plt.show()"
   ]
  },
  {
   "cell_type": "code",
   "execution_count": 4,
   "id": "7c6f3b21",
   "metadata": {},
   "outputs": [
    {
     "data": {
      "text/html": [
       "\n",
       "            <style>\n",
       "                .geemap-dark {\n",
       "                    --jp-widgets-color: white;\n",
       "                    --jp-widgets-label-color: white;\n",
       "                    --jp-ui-font-color1: white;\n",
       "                    --jp-layout-color2: #454545;\n",
       "                    background-color: #383838;\n",
       "                }\n",
       "\n",
       "                .geemap-dark .jupyter-button {\n",
       "                    --jp-layout-color3: #383838;\n",
       "                }\n",
       "\n",
       "                .geemap-colab {\n",
       "                    background-color: var(--colab-primary-surface-color, white);\n",
       "                }\n",
       "\n",
       "                .geemap-colab .jupyter-button {\n",
       "                    --jp-layout-color3: var(--colab-primary-surface-color, white);\n",
       "                }\n",
       "            </style>\n",
       "            "
      ],
      "text/plain": [
       "<IPython.core.display.HTML object>"
      ]
     },
     "metadata": {},
     "output_type": "display_data"
    }
   ],
   "source": [
    "def apply_scale_factors_1(image):\n",
    "    lst = image.select('ST_B6').multiply(0.00341802).add(149.0).subtract(273.15) #usa B6\n",
    "    return image.addBands(lst.rename('LST_C'))\n",
    "\n",
    "def apply_scale_factors_2(image):\n",
    "    lst = image.select('ST_B10').multiply(0.00341802).add(149.0).subtract(273.15)\n",
    "    return image.addBands(lst.rename('LST_C'))"
   ]
  },
  {
   "cell_type": "code",
   "execution_count": 5,
   "id": "8fa47ded",
   "metadata": {},
   "outputs": [
    {
     "data": {
      "text/html": [
       "\n",
       "            <style>\n",
       "                .geemap-dark {\n",
       "                    --jp-widgets-color: white;\n",
       "                    --jp-widgets-label-color: white;\n",
       "                    --jp-ui-font-color1: white;\n",
       "                    --jp-layout-color2: #454545;\n",
       "                    background-color: #383838;\n",
       "                }\n",
       "\n",
       "                .geemap-dark .jupyter-button {\n",
       "                    --jp-layout-color3: #383838;\n",
       "                }\n",
       "\n",
       "                .geemap-colab {\n",
       "                    background-color: var(--colab-primary-surface-color, white);\n",
       "                }\n",
       "\n",
       "                .geemap-colab .jupyter-button {\n",
       "                    --jp-layout-color3: var(--colab-primary-surface-color, white);\n",
       "                }\n",
       "            </style>\n",
       "            "
      ],
      "text/plain": [
       "<IPython.core.display.HTML object>"
      ]
     },
     "metadata": {},
     "output_type": "display_data"
    },
    {
     "name": "stdout",
     "output_type": "stream",
     "text": [
      "Imágenes recuperadas con Landsat 5: 777\n"
     ]
    }
   ],
   "source": [
    "collection_1 = (ee.ImageCollection('LANDSAT/LT05/C02/T1_L2')\n",
    "    .filterBounds(aoi).filterDate('2001-01-01', '2013-01-01').select('ST_B6'))\n",
    "\n",
    "mean_temp_1 = collection_1.map(apply_scale_factors_1).select('LST_C').mean().clip(aoi)\n",
    "print(\"Imágenes recuperadas con Landsat 5:\", len(collection_1.aggregate_array('system:id').getInfo()))"
   ]
  },
  {
   "cell_type": "code",
   "execution_count": 6,
   "id": "400a3ff6",
   "metadata": {},
   "outputs": [
    {
     "data": {
      "text/html": [
       "\n",
       "            <style>\n",
       "                .geemap-dark {\n",
       "                    --jp-widgets-color: white;\n",
       "                    --jp-widgets-label-color: white;\n",
       "                    --jp-ui-font-color1: white;\n",
       "                    --jp-layout-color2: #454545;\n",
       "                    background-color: #383838;\n",
       "                }\n",
       "\n",
       "                .geemap-dark .jupyter-button {\n",
       "                    --jp-layout-color3: #383838;\n",
       "                }\n",
       "\n",
       "                .geemap-colab {\n",
       "                    background-color: var(--colab-primary-surface-color, white);\n",
       "                }\n",
       "\n",
       "                .geemap-colab .jupyter-button {\n",
       "                    --jp-layout-color3: var(--colab-primary-surface-color, white);\n",
       "                }\n",
       "            </style>\n",
       "            "
      ],
      "text/plain": [
       "<IPython.core.display.HTML object>"
      ]
     },
     "metadata": {},
     "output_type": "display_data"
    },
    {
     "name": "stdout",
     "output_type": "stream",
     "text": [
      "Imágenes recuperadas con Landsat 8: 1160\n"
     ]
    }
   ],
   "source": [
    "collection_2 = (ee.ImageCollection('LANDSAT/LC08/C02/T1_L2')\n",
    "              .filterBounds(aoi).filterDate('2013-01-01', '2024-01-31').select('ST_B10'))\n",
    "\n",
    "mean_temp_2 = collection_2.map(apply_scale_factors_2).select('LST_C').mean().clip(aoi)\n",
    "print(\"Imágenes recuperadas con Landsat 8:\", len(collection_2.aggregate_array('system:id').getInfo()))"
   ]
  },
  {
   "cell_type": "code",
   "execution_count": 7,
   "id": "05431c32",
   "metadata": {},
   "outputs": [
    {
     "data": {
      "text/html": [
       "\n",
       "            <style>\n",
       "                .geemap-dark {\n",
       "                    --jp-widgets-color: white;\n",
       "                    --jp-widgets-label-color: white;\n",
       "                    --jp-ui-font-color1: white;\n",
       "                    --jp-layout-color2: #454545;\n",
       "                    background-color: #383838;\n",
       "                }\n",
       "\n",
       "                .geemap-dark .jupyter-button {\n",
       "                    --jp-layout-color3: #383838;\n",
       "                }\n",
       "\n",
       "                .geemap-colab {\n",
       "                    background-color: var(--colab-primary-surface-color, white);\n",
       "                }\n",
       "\n",
       "                .geemap-colab .jupyter-button {\n",
       "                    --jp-layout-color3: var(--colab-primary-surface-color, white);\n",
       "                }\n",
       "            </style>\n",
       "            "
      ],
      "text/plain": [
       "<IPython.core.display.HTML object>"
      ]
     },
     "metadata": {},
     "output_type": "display_data"
    },
    {
     "data": {
      "application/vnd.jupyter.widget-view+json": {
       "model_id": "caf9a7a133b8449290d50c2042998b27",
       "version_major": 2,
       "version_minor": 0
      },
      "text/plain": [
       "Map(center=[44.952205, -110.496154], controls=(WidgetControl(options=['position', 'transparent_bg'], widget=Se…"
      ]
     },
     "execution_count": 7,
     "metadata": {},
     "output_type": "execute_result"
    }
   ],
   "source": [
    "vis_params = {'min': -10, 'max': 10, 'palette': ['blue', 'cyan', 'green', 'yellow', 'red']}\n",
    "Map = geemap.Map(center=centro, zoom=10)\n",
    "Map.addLayer(mean_temp_1, vis_params, 'Media 1984-2013 Landsat 5', shown=True)\n",
    "Map.addLayer(mean_temp_2, vis_params, 'Media 2013-2024 Landsat 8', shown=False)\n",
    "Map.addLayer(aoi, {}, 'aoi', shown=False)\n",
    "Map.add_colorbar(vis_params, label='Brightness Temperature (°C)')\n",
    "Map"
   ]
  },
  {
   "cell_type": "code",
   "execution_count": 9,
   "id": "7ef1081f",
   "metadata": {},
   "outputs": [
    {
     "data": {
      "text/html": [
       "\n",
       "            <style>\n",
       "                .geemap-dark {\n",
       "                    --jp-widgets-color: white;\n",
       "                    --jp-widgets-label-color: white;\n",
       "                    --jp-ui-font-color1: white;\n",
       "                    --jp-layout-color2: #454545;\n",
       "                    background-color: #383838;\n",
       "                }\n",
       "\n",
       "                .geemap-dark .jupyter-button {\n",
       "                    --jp-layout-color3: #383838;\n",
       "                }\n",
       "\n",
       "                .geemap-colab {\n",
       "                    background-color: var(--colab-primary-surface-color, white);\n",
       "                }\n",
       "\n",
       "                .geemap-colab .jupyter-button {\n",
       "                    --jp-layout-color3: var(--colab-primary-surface-color, white);\n",
       "                }\n",
       "            </style>\n",
       "            "
      ],
      "text/plain": [
       "<IPython.core.display.HTML object>"
      ]
     },
     "metadata": {},
     "output_type": "display_data"
    },
    {
     "name": "stdout",
     "output_type": "stream",
     "text": [
      "Generating URL ...\n",
      "Downloading data from https://earthengine.googleapis.com/v1/projects/ee-benja3525/thumbnails/fb74cbeb95fd9afce83db4f646ac3d0b-53a5938b59fde71e3f642f6a1e8704ff:getPixels\n",
      "Please wait ...\n",
      "Data downloaded to c:\\Users\\benji\\Documents\\VSProjects\\Geoespaciales\\p\\mean_temp_2001_2013.tif\n",
      "Generating URL ...\n",
      "Downloading data from https://earthengine.googleapis.com/v1/projects/ee-benja3525/thumbnails/86e470f4f2a66e7f371fee6a32d00c9e-6b66d6895de668d8ed855eb8d4893867:getPixels\n",
      "Please wait ...\n",
      "An error occurred while downloading.\n"
     ]
    }
   ],
   "source": [
    "geemap.ee_export_image(\n",
    "    mean_temp_1,\n",
    "    filename='mean_temp_2001_2013.tif',\n",
    "    scale=90,\n",
    "    region=aoi.geometry(),\n",
    "    file_per_band=False\n",
    ")\n",
    "\n",
    "geemap.ee_export_image(\n",
    "    mean_temp_2,\n",
    "    filename='mean_temp_2013_2024.tif',\n",
    "    scale=90,\n",
    "    region=aoi.geometry(),\n",
    "    file_per_band=False\n",
    ")\n"
   ]
  }
 ],
 "metadata": {
  "kernelspec": {
   "display_name": "Python 3",
   "language": "python",
   "name": "python3"
  },
  "language_info": {
   "codemirror_mode": {
    "name": "ipython",
    "version": 3
   },
   "file_extension": ".py",
   "mimetype": "text/x-python",
   "name": "python",
   "nbconvert_exporter": "python",
   "pygments_lexer": "ipython3",
   "version": "3.10.6"
  }
 },
 "nbformat": 4,
 "nbformat_minor": 5
}
