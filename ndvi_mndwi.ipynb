{
 "cells": [
  {
   "cell_type": "code",
   "execution_count": 1,
   "metadata": {},
   "outputs": [
    {
     "name": "stderr",
     "output_type": "stream",
     "text": [
      "/Users/ruthparajo/anaconda3/lib/python3.11/site-packages/pandas/core/arrays/masked.py:60: UserWarning: Pandas requires version '1.3.6' or newer of 'bottleneck' (version '1.3.5' currently installed).\n",
      "  from pandas.core import (\n"
     ]
    }
   ],
   "source": [
    "import ee\n",
    "import geopandas as gpd"
   ]
  },
  {
   "cell_type": "code",
   "execution_count": 2,
   "metadata": {},
   "outputs": [],
   "source": [
    "ee.Authenticate()\n",
    "ee.Initialize()"
   ]
  },
  {
   "cell_type": "code",
   "execution_count": 3,
   "metadata": {},
   "outputs": [],
   "source": [
    "yell = gpd.read_file('../datos/YELL_tracts/YELL_boundary.shp')"
   ]
  },
  {
   "cell_type": "code",
   "execution_count": 4,
   "metadata": {},
   "outputs": [],
   "source": [
    "def getAOI_latlon(dat,crs=4326):\n",
    "    minx,miny,maxx,maxy=dat.to_crs(crs).geometry.total_bounds\n",
    "    xy=[[minx,miny],[maxx,miny],[maxx,maxy],[minx,maxy]]\n",
    "    aoi = ee.Geometry.Polygon(xy)\n",
    "    return(aoi)"
   ]
  },
  {
   "cell_type": "code",
   "execution_count": 6,
   "metadata": {},
   "outputs": [
    {
     "data": {
      "text/plain": [
       "<Geographic 2D CRS: GEOGCS[\"North_American_Datum_1983\",DATUM[\"North_Am ...>\n",
       "Name: North_American_Datum_1983\n",
       "Axis Info [ellipsoidal]:\n",
       "- lon[east]: Longitude (Degree)\n",
       "- lat[north]: Latitude (Degree)\n",
       "Area of Use:\n",
       "- undefined\n",
       "Datum: North American Datum 1983\n",
       "- Ellipsoid: Geodetic Reference System of 1980\n",
       "- Prime Meridian: Greenwich"
      ]
     },
     "execution_count": 6,
     "metadata": {},
     "output_type": "execute_result"
    }
   ],
   "source": [
    "yell.crs"
   ]
  },
  {
   "cell_type": "code",
   "execution_count": 5,
   "metadata": {},
   "outputs": [
    {
     "data": {
      "text/plain": [
       "ee.Geometry({\n",
       "  \"functionInvocationValue\": {\n",
       "    \"functionName\": \"GeometryConstructors.Polygon\",\n",
       "    \"arguments\": {\n",
       "      \"coordinates\": {\n",
       "        \"constantValue\": [\n",
       "          [\n",
       "            [\n",
       "              -111.15598590795724,\n",
       "              44.1324468509431\n",
       "            ],\n",
       "            [\n",
       "              -109.82418013760002,\n",
       "              44.1324468509431\n",
       "            ],\n",
       "            [\n",
       "              -109.82418013760002,\n",
       "              45.10895671616003\n",
       "            ],\n",
       "            [\n",
       "              -111.15598590795724,\n",
       "              45.10895671616003\n",
       "            ]\n",
       "          ]\n",
       "        ]\n",
       "      },\n",
       "      \"evenOdd\": {\n",
       "        \"constantValue\": true\n",
       "      }\n",
       "    }\n",
       "  }\n",
       "})"
      ]
     },
     "execution_count": 5,
     "metadata": {},
     "output_type": "execute_result"
    }
   ],
   "source": [
    "aoi=getAOI_latlon(yell)\n",
    "aoi"
   ]
  },
  {
   "cell_type": "code",
   "execution_count": 25,
   "metadata": {},
   "outputs": [],
   "source": [
    "def calculate_indices(image):\n",
    "    ndvi = image.normalizedDifference(['SR_B5', 'SR_B4']).rename('NDVI')\n",
    "    mndwi = image.normalizedDifference(['SR_B3', 'SR_B7']).rename('MNDWI')  # CORREGIDO aquí\n",
    "    return image.addBands([ndvi, mndwi])\n"
   ]
  },
  {
   "cell_type": "code",
   "execution_count": 26,
   "metadata": {},
   "outputs": [
    {
     "name": "stdout",
     "output_type": "stream",
     "text": [
      "LANDSAT/LT05/C02/T1_L2/LT05_037029_19860827\n",
      "LANDSAT/LT05/C02/T1_L2/LT05_037029_19870830\n",
      "LANDSAT/LT05/C02/T1_L2/LT05_038029_19880722\n",
      "LANDSAT/LT05/C02/T1_L2/LT05_037029_19890718\n",
      "LANDSAT/LT05/C02/T1_L2/LT05_039029_19900703\n",
      "LANDSAT/LT05/C02/T1_L2/LT05_037030_19910825\n",
      "LANDSAT/LT05/C02/T1_L2/LT05_037030_19920827\n",
      "LANDSAT/LT05/C02/T1_L2/LT05_039029_19930711\n",
      "LANDSAT/LT05/C02/T1_L2/LT05_037029_19940630\n",
      "LANDSAT/LT05/C02/T1_L2/LT05_037029_19950820\n",
      "LANDSAT/LT05/C02/T1_L2/LT05_037030_19960822\n",
      "LANDSAT/LT05/C02/T1_L2/LT05_039028_19970722\n",
      "LANDSAT/LT05/C02/T1_L2/LT05_037029_19980828\n",
      "LANDSAT/LT05/C02/T1_L2/LT05_039028_19990712\n",
      "LANDSAT/LT05/C02/T1_L2/LT05_039028_20000714\n",
      "LANDSAT/LT05/C02/T1_L2/LT05_039028_20010802\n",
      "LANDSAT/LT05/C02/T1_L2/LT05_038029_20020814\n",
      "LANDSAT/LT05/C02/T1_L2/LT05_038029_20030801\n",
      "LANDSAT/LT05/C02/T1_L2/LT05_037029_20040812\n",
      "LANDSAT/LT05/C02/T1_L2/LT05_038029_20050721\n",
      "LANDSAT/LT05/C02/T1_L2/LT05_039029_20060715\n",
      "LANDSAT/LT05/C02/T1_L2/LT05_039029_20070718\n",
      "LANDSAT/LT05/C02/T1_L2/LT05_037029_20080823\n",
      "LANDSAT/LT05/C02/T1_L2/LT05_037029_20090623\n",
      "LANDSAT/LT05/C02/T1_L2/LT05_038029_20100820\n",
      "LANDSAT/LT05/C02/T1_L2/LT05_037030_20110816\n",
      "LANDSAT/LE07/C02/T1_L2/LE07_038029_20120817\n",
      "LANDSAT/LE07/C02/T1_L2/LE07_039028_20130710\n",
      "LANDSAT/LE07/C02/T1_L2/LE07_037030_20140629\n",
      "LANDSAT/LE07/C02/T1_L2/LE07_037029_20150819\n",
      "LANDSAT/LE07/C02/T1_L2/LE07_037029_20160821\n",
      "LANDSAT/LE07/C02/T1_L2/LE07_039028_20170721\n",
      "LANDSAT/LE07/C02/T1_L2/LE07_039028_20180809\n",
      "LANDSAT/LE07/C02/T1_L2/LE07_039028_20190828\n",
      "LANDSAT/LE07/C02/T1_L2/LE07_037029_20200816\n"
     ]
    }
   ],
   "source": [
    "start_year = 1986\n",
    "end_year = 2020\n",
    "def get_summer_image(year):\n",
    "    start = ee.Date.fromYMD(year, 6, 1)\n",
    "    end = ee.Date.fromYMD(year, 8, 31)\n",
    "    \n",
    "    # Elige Landsat según el año\n",
    "    l5 = ee.ImageCollection('LANDSAT/LT05/C02/T1_L2').filterDate(start, end)\n",
    "    l7 = ee.ImageCollection('LANDSAT/LE07/C02/T1_L2').filterDate(start, end)\n",
    "    \n",
    "    collection = ee.ImageCollection(ee.Algorithms.If(year <= 2011, l5, l7)) \\\n",
    "        .filterBounds(aoi) \\\n",
    "        .filter(ee.Filter.lt('CLOUD_COVER', 30)) \\\n",
    "        .sort('CLOUD_COVER')  # Mejor imagen (menos nubes) al inicio\n",
    "\n",
    "    image = ee.Image(collection.first())\n",
    "    image = calculate_indices(image).select(['NDVI', 'MNDWI'])\n",
    "    return image.set('year', year)\n",
    "\n",
    "# Lista de imágenes por año\n",
    "years = list(range(start_year, end_year + 1))\n",
    "images = [get_summer_image(y) for y in years]\n",
    "\n",
    "# Convertir a colección\n",
    "image_collection = ee.ImageCollection(images)\n",
    "\n",
    "# Imprimir los IDs para ver si funcionó\n",
    "ids = image_collection.aggregate_array('system:id').getInfo()\n",
    "for i in ids:\n",
    "    print(i)"
   ]
  },
  {
   "cell_type": "code",
   "execution_count": 36,
   "metadata": {},
   "outputs": [
    {
     "name": "stdout",
     "output_type": "stream",
     "text": [
      "Task for year 1986 started.\n",
      "Task for year 1987 started.\n",
      "Task for year 1988 started.\n",
      "Task for year 1989 started.\n",
      "Task for year 1990 started.\n",
      "Task for year 1991 started.\n",
      "Task for year 1992 started.\n",
      "Task for year 1993 started.\n",
      "Task for year 1994 started.\n",
      "Task for year 1995 started.\n",
      "Task for year 1996 started.\n",
      "Task for year 1997 started.\n",
      "Task for year 1998 started.\n",
      "Task for year 1999 started.\n",
      "Task for year 2000 started.\n",
      "Task for year 2001 started.\n",
      "Task for year 2002 started.\n",
      "Task for year 2003 started.\n",
      "Task for year 2004 started.\n",
      "Task for year 2005 started.\n",
      "Task for year 2006 started.\n",
      "Task for year 2007 started.\n",
      "Task for year 2008 started.\n",
      "Task for year 2009 started.\n",
      "Task for year 2010 started.\n",
      "Task for year 2011 started.\n",
      "Task for year 2012 started.\n",
      "Task for year 2013 started.\n",
      "Task for year 2014 started.\n",
      "Task for year 2015 started.\n",
      "Task for year 2016 started.\n",
      "Task for year 2017 started.\n",
      "Task for year 2018 started.\n",
      "Task for year 2019 started.\n",
      "Task for year 2020 started.\n"
     ]
    }
   ],
   "source": [
    "for image in images:\n",
    "    year = image.get('year').getInfo()\n",
    "    task = ee.batch.Export.image.toDrive(\n",
    "        image=image.clip(aoi),\n",
    "        description=f'NDVI_MNDWI_{year}',\n",
    "        folder='GEE_Yellowstone',\n",
    "        fileNamePrefix=f'ndvi_mndwi_{year}_summer',\n",
    "        region=aoi.geometries().getInfo()[0]['coordinates'],\n",
    "        scale=30,\n",
    "        maxPixels=1e10\n",
    "    )\n",
    "    task.start()\n",
    "    print(f'Task for year {year} started.')"
   ]
  }
 ],
 "metadata": {
  "kernelspec": {
   "display_name": "base",
   "language": "python",
   "name": "python3"
  },
  "language_info": {
   "codemirror_mode": {
    "name": "ipython",
    "version": 3
   },
   "file_extension": ".py",
   "mimetype": "text/x-python",
   "name": "python",
   "nbconvert_exporter": "python",
   "pygments_lexer": "ipython3",
   "version": "3.11.5"
  },
  "orig_nbformat": 4
 },
 "nbformat": 4,
 "nbformat_minor": 2
}
